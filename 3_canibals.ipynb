{
 "cells": [
  {
   "cell_type": "code",
   "execution_count": 31,
   "metadata": {},
   "outputs": [],
   "source": [
    "import time\n",
    "\n",
    "cMalI = 0\n",
    "mMalI = 1\n",
    "cMalF = 2\n",
    "mMalF = 3\n",
    "malBarca = 4\n",
    "malI =  1\n",
    "malF = -1\n",
    "\n",
    "n, m = 3, 2\n",
    "startInfo = (n, n, 0, 0, malI)\n",
    "scopInfo  = (0, 0, n, n, malF)\n",
    "\n",
    "def IsAValidMove (cI, mI, cF, mF, cB, mB):\n",
    "    print (cI, mI,cF, mF, cB, mB)\n",
    "    if cI > mI and mI != 0: return False\n",
    "    if cF > mF and mF != 0: return False\n",
    "    if cB > mB and mB != 0: return False\n",
    "    if cB + mB == 0 or cB + mB > m: return False\n",
    "    return True"
   ]
  },
  {
   "cell_type": "code",
   "execution_count": 43,
   "metadata": {},
   "outputs": [],
   "source": [
    "class Nod:\n",
    "    nodes = []\n",
    "    def __init__(self, info, g = 0, p = None):\n",
    "        self.id = len(Nod.nodes)\n",
    "        self.info = info # unique\n",
    "        self.p = p\n",
    "        self.g = g\n",
    "        self.h = (info[cMalI] + info[mMalI]) // 2\n",
    "        self.f = self.g + self.h\n",
    "        Nod.nodes.append(self)\n",
    "        \n",
    "    def __str__ (self):\n",
    "        return (f\"(Info={self.info}; h={self.h}; g={self.g}; f={self.f})\")\n",
    "    def __repr__ (self):\n",
    "        return (f\"(Info={self.info}; h={self.h}; g={self.g}; f={self.f})\")\n",
    "\n",
    "    def Succ (self):\n",
    "        succ = []\n",
    "\n",
    "        maxNrC = self.info[cMalI if self.info[malBarca] == malI else cMalF]\n",
    "        maxNrM = self.info[mMalI if self.info[malBarca] == malI else mMalF]\n",
    "\n",
    "        print (maxNrC, maxNrM)\n",
    "\n",
    "        nrC = 1\n",
    "        while nrC <= maxNrC and nrC <= m: # mutam doar canibali\n",
    "            if IsAValidMove(self.info[cMalI] - self.info[malBarca] * nrC, self.info[mMalI], self.info[cMalF] + self.info[malBarca] * nrC, self.info[mMalF], nrC, 0):\n",
    "                info = (self.info[cMalI] - self.info[malBarca] * nrC, self.info[mMalI], self.info[cMalF] + self.info[malBarca] * nrC, self.info[mMalF], -self.info[malBarca])\n",
    "                succ.append (Nod(info, self.g + 1, self.id))\n",
    "            nrC += 1\n",
    "\n",
    "        nrM = 1\n",
    "        while nrM <= maxNrM and nrM <= m:\n",
    "            nrC = 0\n",
    "            while nrC <= nrM and nrC <= maxNrC and nrM + nrC <= m:\n",
    "                if IsAValidMove(self.info[cMalI] - self.info[malBarca] * nrC, self.info[mMalI] - self.info[malBarca] * nrM, self.info[cMalF] + self.info[malBarca] * nrC, self.info[mMalF] + self.info[malBarca] * nrM, nrC, nrM):\n",
    "                    info = (self.info[cMalI] - self.info[malBarca] * nrC, self.info[mMalI] - self.info[malBarca] * nrM, self.info[cMalF] + self.info[malBarca] * nrC, self.info[mMalF] + self.info[malBarca] * nrM, -self.info[malBarca])\n",
    "                succ.append (Nod(info, self.g + 1, self.id))\n",
    "                nrC += 1\n",
    "            nrM += 1\n",
    "\n",
    "        return succ\n",
    "    \n",
    "    def HasPred (self, nod): # checks if self has nod as a predecesor\n",
    "        predId = self.p\n",
    "        while predId is not None:\n",
    "            if Nod.nodes[predId].info == nod.info: return True\n",
    "            predId = Nod.nodes[predId].p\n",
    "        return False\n",
    "\n",
    "    def IsInList (self, nods):\n",
    "        for nodPoz in range(len(nods)):\n",
    "            if nods[nodPoz].info == self.info: \n",
    "                return nodPoz\n",
    "        return None\n",
    "\n",
    "    def PrintPath (self):\n",
    "        if self.p is not None: Nod.nodes[self.p].PrintPath()\n",
    "        else: print (\"Path:\")\n",
    "        print (self)"
   ]
  },
  {
   "cell_type": "code",
   "execution_count": 44,
   "metadata": {},
   "outputs": [
    {
     "name": "stdout",
     "output_type": "stream",
     "text": "3 3\n2 3 1 0 1 0\n1 3 2 0 2 0\n3 2 0 1 0 1\n2 2 1 1 1 1\n3 1 0 2 0 2\n[(Info=(2, 3, 1, 0, -1); h=2; g=1; f=3), (Info=(1, 3, 2, 0, -1); h=2; g=1; f=3), (Info=(1, 3, 2, 0, -1); h=2; g=1; f=3), (Info=(2, 2, 1, 1, -1); h=2; g=1; f=3), (Info=(2, 2, 1, 1, -1); h=2; g=1; f=3)]\n"
    }
   ],
   "source": [
    "nodStart = Nod (startInfo)\n",
    "print (nodStart.Succ())"
   ]
  },
  {
   "cell_type": "code",
   "execution_count": 46,
   "metadata": {},
   "outputs": [
    {
     "name": "stdout",
     "output_type": "stream",
     "text": "3 3\n2 3 1 0 1 0\n1 3 2 0 2 0\n3 2 0 1 0 1\n2 2 1 1 1 1\n3 1 0 2 0 2\n1 0\n3 3 0 0 1 0\n2 0\n2 3 1 0 1 0\n3 3 0 0 2 0\n2 3\n1 3 2 0 1 0\n0 3 3 0 2 0\n2 2 1 1 0 1\n1 2 2 1 1 1\n2 1 1 2 0 2\n1 1\n3 2 0 1 1 0\n2 3 1 0 0 1\n3 3 0 0 1 1\n1 1\n3 2 0 1 1 0\n2 3 1 0 0 1\n3 3 0 0 1 1\n1 1\n3 2 0 1 1 0\n2 3 1 0 0 1\n3 3 0 0 1 1\n3 0\n1 3 2 0 1 0\n2 3 1 0 2 0\n1 3\n0 3 3 0 1 0\n1 2 2 1 0 1\n0 2 3 1 1 1\n1 1 2 2 0 2\n2 2\n2 1 1 2 1 0\n3 1 0 2 2 0\n1 2 2 1 0 1\n"
    },
    {
     "ename": "UnboundLocalError",
     "evalue": "local variable 'info' referenced before assignment",
     "output_type": "error",
     "traceback": [
      "\u001b[1;31m---------------------------------------------------------------------------\u001b[0m",
      "\u001b[1;31mUnboundLocalError\u001b[0m                         Traceback (most recent call last)",
      "\u001b[1;32m<ipython-input-46-81f167806cd6>\u001b[0m in \u001b[0;36m<module>\u001b[1;34m\u001b[0m\n\u001b[0;32m      7\u001b[0m     \u001b[0mcurrNod\u001b[0m \u001b[1;33m=\u001b[0m \u001b[0mopen\u001b[0m\u001b[1;33m.\u001b[0m\u001b[0mpop\u001b[0m\u001b[1;33m(\u001b[0m\u001b[1;36m0\u001b[0m\u001b[1;33m)\u001b[0m\u001b[1;33m\u001b[0m\u001b[1;33m\u001b[0m\u001b[0m\n\u001b[0;32m      8\u001b[0m     \u001b[1;31m# if I was the final state I should have already stopped\u001b[0m\u001b[1;33m\u001b[0m\u001b[1;33m\u001b[0m\u001b[1;33m\u001b[0m\u001b[0m\n\u001b[1;32m----> 9\u001b[1;33m     \u001b[1;32mfor\u001b[0m \u001b[0ms\u001b[0m \u001b[1;32min\u001b[0m \u001b[0mcurrNod\u001b[0m\u001b[1;33m.\u001b[0m\u001b[0mSucc\u001b[0m\u001b[1;33m(\u001b[0m\u001b[1;33m)\u001b[0m\u001b[1;33m:\u001b[0m\u001b[1;33m\u001b[0m\u001b[1;33m\u001b[0m\u001b[0m\n\u001b[0m\u001b[0;32m     10\u001b[0m         \u001b[1;32mif\u001b[0m \u001b[0ms\u001b[0m\u001b[1;33m.\u001b[0m\u001b[0minfo\u001b[0m \u001b[1;33m==\u001b[0m \u001b[0mscopInfo\u001b[0m\u001b[1;33m:\u001b[0m\u001b[1;33m\u001b[0m\u001b[1;33m\u001b[0m\u001b[0m\n\u001b[0;32m     11\u001b[0m             \u001b[0mdone\u001b[0m \u001b[1;33m=\u001b[0m \u001b[1;32mTrue\u001b[0m\u001b[1;33m\u001b[0m\u001b[1;33m\u001b[0m\u001b[0m\n",
      "\u001b[1;32m<ipython-input-43-c66dec108d6c>\u001b[0m in \u001b[0;36mSucc\u001b[1;34m(self)\u001b[0m\n\u001b[0;32m     36\u001b[0m                 \u001b[1;32mif\u001b[0m \u001b[0mIsAValidMove\u001b[0m\u001b[1;33m(\u001b[0m\u001b[0mself\u001b[0m\u001b[1;33m.\u001b[0m\u001b[0minfo\u001b[0m\u001b[1;33m[\u001b[0m\u001b[0mcMalI\u001b[0m\u001b[1;33m]\u001b[0m \u001b[1;33m-\u001b[0m \u001b[0mself\u001b[0m\u001b[1;33m.\u001b[0m\u001b[0minfo\u001b[0m\u001b[1;33m[\u001b[0m\u001b[0mmalBarca\u001b[0m\u001b[1;33m]\u001b[0m \u001b[1;33m*\u001b[0m \u001b[0mnrC\u001b[0m\u001b[1;33m,\u001b[0m \u001b[0mself\u001b[0m\u001b[1;33m.\u001b[0m\u001b[0minfo\u001b[0m\u001b[1;33m[\u001b[0m\u001b[0mmMalI\u001b[0m\u001b[1;33m]\u001b[0m \u001b[1;33m-\u001b[0m \u001b[0mself\u001b[0m\u001b[1;33m.\u001b[0m\u001b[0minfo\u001b[0m\u001b[1;33m[\u001b[0m\u001b[0mmalBarca\u001b[0m\u001b[1;33m]\u001b[0m \u001b[1;33m*\u001b[0m \u001b[0mnrM\u001b[0m\u001b[1;33m,\u001b[0m \u001b[0mself\u001b[0m\u001b[1;33m.\u001b[0m\u001b[0minfo\u001b[0m\u001b[1;33m[\u001b[0m\u001b[0mcMalF\u001b[0m\u001b[1;33m]\u001b[0m \u001b[1;33m+\u001b[0m \u001b[0mself\u001b[0m\u001b[1;33m.\u001b[0m\u001b[0minfo\u001b[0m\u001b[1;33m[\u001b[0m\u001b[0mmalBarca\u001b[0m\u001b[1;33m]\u001b[0m \u001b[1;33m*\u001b[0m \u001b[0mnrC\u001b[0m\u001b[1;33m,\u001b[0m \u001b[0mself\u001b[0m\u001b[1;33m.\u001b[0m\u001b[0minfo\u001b[0m\u001b[1;33m[\u001b[0m\u001b[0mmMalF\u001b[0m\u001b[1;33m]\u001b[0m \u001b[1;33m+\u001b[0m \u001b[0mself\u001b[0m\u001b[1;33m.\u001b[0m\u001b[0minfo\u001b[0m\u001b[1;33m[\u001b[0m\u001b[0mmalBarca\u001b[0m\u001b[1;33m]\u001b[0m \u001b[1;33m*\u001b[0m \u001b[0mnrM\u001b[0m\u001b[1;33m,\u001b[0m \u001b[0mnrC\u001b[0m\u001b[1;33m,\u001b[0m \u001b[0mnrM\u001b[0m\u001b[1;33m)\u001b[0m\u001b[1;33m:\u001b[0m\u001b[1;33m\u001b[0m\u001b[1;33m\u001b[0m\u001b[0m\n\u001b[0;32m     37\u001b[0m                     \u001b[0minfo\u001b[0m \u001b[1;33m=\u001b[0m \u001b[1;33m(\u001b[0m\u001b[0mself\u001b[0m\u001b[1;33m.\u001b[0m\u001b[0minfo\u001b[0m\u001b[1;33m[\u001b[0m\u001b[0mcMalI\u001b[0m\u001b[1;33m]\u001b[0m \u001b[1;33m-\u001b[0m \u001b[0mself\u001b[0m\u001b[1;33m.\u001b[0m\u001b[0minfo\u001b[0m\u001b[1;33m[\u001b[0m\u001b[0mmalBarca\u001b[0m\u001b[1;33m]\u001b[0m \u001b[1;33m*\u001b[0m \u001b[0mnrC\u001b[0m\u001b[1;33m,\u001b[0m \u001b[0mself\u001b[0m\u001b[1;33m.\u001b[0m\u001b[0minfo\u001b[0m\u001b[1;33m[\u001b[0m\u001b[0mmMalI\u001b[0m\u001b[1;33m]\u001b[0m \u001b[1;33m-\u001b[0m \u001b[0mself\u001b[0m\u001b[1;33m.\u001b[0m\u001b[0minfo\u001b[0m\u001b[1;33m[\u001b[0m\u001b[0mmalBarca\u001b[0m\u001b[1;33m]\u001b[0m \u001b[1;33m*\u001b[0m \u001b[0mnrM\u001b[0m\u001b[1;33m,\u001b[0m \u001b[0mself\u001b[0m\u001b[1;33m.\u001b[0m\u001b[0minfo\u001b[0m\u001b[1;33m[\u001b[0m\u001b[0mcMalF\u001b[0m\u001b[1;33m]\u001b[0m \u001b[1;33m+\u001b[0m \u001b[0mself\u001b[0m\u001b[1;33m.\u001b[0m\u001b[0minfo\u001b[0m\u001b[1;33m[\u001b[0m\u001b[0mmalBarca\u001b[0m\u001b[1;33m]\u001b[0m \u001b[1;33m*\u001b[0m \u001b[0mnrC\u001b[0m\u001b[1;33m,\u001b[0m \u001b[0mself\u001b[0m\u001b[1;33m.\u001b[0m\u001b[0minfo\u001b[0m\u001b[1;33m[\u001b[0m\u001b[0mmMalF\u001b[0m\u001b[1;33m]\u001b[0m \u001b[1;33m+\u001b[0m \u001b[0mself\u001b[0m\u001b[1;33m.\u001b[0m\u001b[0minfo\u001b[0m\u001b[1;33m[\u001b[0m\u001b[0mmalBarca\u001b[0m\u001b[1;33m]\u001b[0m \u001b[1;33m*\u001b[0m \u001b[0mnrM\u001b[0m\u001b[1;33m,\u001b[0m \u001b[1;33m-\u001b[0m\u001b[0mself\u001b[0m\u001b[1;33m.\u001b[0m\u001b[0minfo\u001b[0m\u001b[1;33m[\u001b[0m\u001b[0mmalBarca\u001b[0m\u001b[1;33m]\u001b[0m\u001b[1;33m)\u001b[0m\u001b[1;33m\u001b[0m\u001b[1;33m\u001b[0m\u001b[0m\n\u001b[1;32m---> 38\u001b[1;33m                 \u001b[0msucc\u001b[0m\u001b[1;33m.\u001b[0m\u001b[0mappend\u001b[0m \u001b[1;33m(\u001b[0m\u001b[0mNod\u001b[0m\u001b[1;33m(\u001b[0m\u001b[0minfo\u001b[0m\u001b[1;33m,\u001b[0m \u001b[0mself\u001b[0m\u001b[1;33m.\u001b[0m\u001b[0mg\u001b[0m \u001b[1;33m+\u001b[0m \u001b[1;36m1\u001b[0m\u001b[1;33m,\u001b[0m \u001b[0mself\u001b[0m\u001b[1;33m.\u001b[0m\u001b[0mid\u001b[0m\u001b[1;33m)\u001b[0m\u001b[1;33m)\u001b[0m\u001b[1;33m\u001b[0m\u001b[1;33m\u001b[0m\u001b[0m\n\u001b[0m\u001b[0;32m     39\u001b[0m                 \u001b[0mnrC\u001b[0m \u001b[1;33m+=\u001b[0m \u001b[1;36m1\u001b[0m\u001b[1;33m\u001b[0m\u001b[1;33m\u001b[0m\u001b[0m\n\u001b[0;32m     40\u001b[0m             \u001b[0mnrM\u001b[0m \u001b[1;33m+=\u001b[0m \u001b[1;36m1\u001b[0m\u001b[1;33m\u001b[0m\u001b[1;33m\u001b[0m\u001b[0m\n",
      "\u001b[1;31mUnboundLocalError\u001b[0m: local variable 'info' referenced before assignment"
     ]
    }
   ],
   "source": [
    "assert startInfo != scopInfo, \"Already in the final state\"\n",
    "open = [Nod (startInfo)]\n",
    "# no need for closed\n",
    "done = False\n",
    "startTime = time.time()\n",
    "while len(open) != 0 and not done:\n",
    "    currNod = open.pop(0)\n",
    "    # if I was the final state I should have already stopped\n",
    "    for s in currNod.Succ():\n",
    "        if s.info == scopInfo:\n",
    "            done = True\n",
    "            s.PrintPath()\n",
    "            break\n",
    "\n",
    "        if currNod.HasPred(s): continue\n",
    "\n",
    "        poz = len(open)\n",
    "        open.append (s)\n",
    "\n",
    "        while poz > 0 and open[poz-1].f < open[poz].f:\n",
    "            open[poz-1], open[poz] = open[poz], open[poz-1]\n",
    "            poz -= 1\n",
    "\n",
    "        while poz > 0 and open[poz-1].f == open[poz].f and open[poz-1].g > open[poz].g:\n",
    "            open[poz-1], open[poz] = open[poz], open[poz-1]\n",
    "            poz -= 1\n",
    "\n",
    "print (f\"Duration: {time.time() - startTime}\")    \n",
    "if not done:\n",
    "    print(\"Lista open e vida, nu avem drum de la nodul start la nodul scop\")"
   ]
  }
 ],
 "metadata": {
  "kernelspec": {
   "name": "python3",
   "display_name": "Python 3"
  }
 },
 "nbformat": 4,
 "nbformat_minor": 2
}