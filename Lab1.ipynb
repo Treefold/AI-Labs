{
 "cells": [
  {
   "cell_type": "code",
   "execution_count": null,
   "metadata": {},
   "outputs": [],
   "source": [
    "# python_atrib_multipl_introductiv\n",
    "\n",
    "a,b,c=1,2,3\n",
    "#TO DO 1\n",
    "a, b, c = b, c, a\n",
    "print(a,b,c)\n",
    "\n",
    "a,b,c=1,2,3\n",
    "#TO DO 2\n",
    "a, b, c = c, b, a\n",
    "print(a,b,c)\n",
    "\n",
    "a,b,c=1,2,3\n",
    "#TO DO 3\n",
    "a = b = c = a + b + c\n",
    "print(a,b,c)"
   ]
  },
  {
   "cell_type": "code",
   "execution_count": null,
   "metadata": {},
   "outputs": [],
   "source": [
    "# python_input_introductiv\n",
    "\n",
    "print(\":)\" if input(\"Salut, {}, iti place laboratorul\\n\".format(input(\"cum te numesti?\"))) else \":(\")"
   ]
  },
  {
   "cell_type": "code",
   "execution_count": null,
   "metadata": {},
   "outputs": [],
   "source": [
    "#python_fct_recursiv_introductiv\n",
    "\n",
    "import random\n",
    "nr = random.randint(0,10)\n",
    "\n",
    "def tries (st = 0, dr = 9, leftTries = 3):\n",
    "    if leftTries < 0:\n",
    "        print (\"Not found, the number was {}\".format(nr))\n",
    "        return 0\n",
    "    else:\n",
    "        tr = int(input (\"The number is between {} and {}\\nYou have {} tries left\\nYour guess is \".format(st, dr, leftTries)))\n",
    "        if nr > tr:\n",
    "            tries (tr+1, dr, leftTries - 1)\n",
    "        elif nr < tr:\n",
    "            tries (st, tr-1, leftTries - 1)\n",
    "        else:\n",
    "            print (\"You got it\")\n",
    "\n",
    "tries ()"
   ]
  },
  {
   "cell_type": "code",
   "execution_count": null,
   "metadata": {},
   "outputs": [],
   "source": [
    "# python_substr_introductiv\n",
    "\n",
    "s = input(\"Your string is \")\n",
    "# a\n",
    "for i in range(0, len(s)):\n",
    "    print (s[i:] + s[:i])\n",
    "\n",
    "# b\n",
    "print (\"\\n\")\n",
    "for i in range(0, len(s)):\n",
    "    print (s[-i:] + s[:-i])\n",
    "\n",
    "# c\n",
    "print (\"\\n\")\n",
    "for i in range(1, len(s)//2 + 1):\n",
    "    print (s[:i] + '|' + s[-i:])    "
   ]
  },
  {
   "cell_type": "code",
   "execution_count": null,
   "metadata": {},
   "outputs": [],
   "source": [
    "# python_list_categ\n",
    "\n",
    "l =  [\"haha\", \"poc\", \"Poc\", \"POC\", \"haHA\", \"hei\",\"hey\", \"HahA\", \"poc\", \"Hei\"]\n",
    "\n",
    "d = {}\n",
    "for cuv in l:\n",
    "    cuv.lower()\n",
    "    if cuv.lower() in d.keys():\n",
    "        d[cuv.lower()] += 1\n",
    "    else:\n",
    "        d[cuv.lower()] = 1\n",
    "\n",
    "for cuv in d:\n",
    "    print (\"Cuvantul {} apare de {} ori\".format(cuv, d[cuv]))"
   ]
  },
  {
   "cell_type": "code",
   "execution_count": null,
   "metadata": {},
   "outputs": [],
   "source": [
    "#lab1-1\n",
    "n = int(input(\"n = \"))\n",
    "assert n > 0\n",
    "l = list([0]*n)\n",
    "for i in range(n):\n",
    "    l[i] = int(input(\"l[{}] = \".format(i+1)))\n",
    "l.sort(reverse = True)\n",
    "if (l[0] == l[-1]): print (\"Imposibil\")\n",
    "else: \n",
    "    i = 1\n",
    "    while (l[i] == l[0]): i += 1 \n",
    "    print (l[0], l[i])"
   ]
  },
  {
   "cell_type": "code",
   "execution_count": null,
   "metadata": {},
   "outputs": [],
   "source": [
    "s1 = input (\"stringul1 = \")\n",
    "s2 = input (\"stringul2 = \")\n",
    "\n",
    "if len(s1) != len(s2): print (\"Imposibil\")\n",
    "else:\n",
    "    s1 = s1.lower()\n",
    "    s2 = s2.lower()\n",
    "    d = {}\n",
    "    for c in s1:\n",
    "        if c in d.keys():\n",
    "            d[c] += 1\n",
    "        else: \n",
    "            d[c] = 1\n",
    "\n",
    "    imp = False    \n",
    "    for c in s2:\n",
    "        if c in d.keys():\n",
    "            if (d[c] > 0): d[c] -= 1\n",
    "            else: \n",
    "                imp = True\n",
    "                break\n",
    "        else: \n",
    "            imp = True\n",
    "            break\n",
    "    \n",
    "    print(\"Ok\" if not imp else \"Imposibil\")"
   ]
  },
  {
   "cell_type": "code",
   "execution_count": null,
   "metadata": {},
   "outputs": [],
   "source": [
    "t = input (\"text = \")\n",
    "s = input (\"sir = \")\n",
    "assert s.isalnum()\n",
    "sep = \" ,.!?_\"\n",
    "\n",
    "for se in sep:\n",
    "    t = t.replace(se, \" \")\n",
    "print (t.split(\" \"))\n",
    "\n",
    "print(s.strip())"
   ]
  },
  {
   "cell_type": "code",
   "execution_count": null,
   "metadata": {},
   "outputs": [],
   "source": [
    "# 3.1\n",
    "out = open('test.out', 'w') \n",
    "with open('test.in', 'r') as rFile:\n",
    "    score = 1\n",
    "    ecs   = rFile.read().replace(' ', '').replace(\"\\n\\n\", \"\\n\").split('\\n')\n",
    "    assert ecs != 9, \"Only 9 questions\"\n",
    "    for ec in ecs:\n",
    "        part = ec.split('=')\n",
    "        assert part != 2, \"You must have only one equal signs\"\n",
    "        form, rez = part\n",
    "        form = form.split('*')\n",
    "        assert form != 2, \"You must have only one multiplication signs\"\n",
    "        a, b = form\n",
    "        assert a.isdecimal() and b.isdecimal() and rez.isdecimal(), \"All of them should be numbers\"\n",
    "        a, b, rez = int(a), int (b), int(rez)\n",
    "        if a * b == rez:\n",
    "            score += 1\n",
    "            print (ec, \"Correct\", file=out)\n",
    "        else:\n",
    "            print (ec, \"Gresit\", a * b, file=out)\n",
    "    print (\"Nota =\", score, file=out)\n",
    "out.close()\n",
    "print (\"done\")"
   ]
  },
  {
   "cell_type": "code",
   "execution_count": null,
   "metadata": {},
   "outputs": [],
   "source": [
    "# 3.2 a\n",
    "from math import sqrt\n",
    "def ipotenuza (a, b):\n",
    "    return sqrt(a*a + b*b)"
   ]
  },
  {
   "cell_type": "code",
   "execution_count": null,
   "metadata": {},
   "outputs": [],
   "source": [
    "# 3.2 b\n",
    "out = open('triplete_pitagoreice.txt', 'w')\n",
    "b = input('b = ')\n",
    "assert b.isdecimal(), \"Number not natural\"\n",
    "b = int(b)\n",
    "assert b != 0, \"b cannot be 0\"\n",
    "rez = 0\n",
    "\n",
    "for a in range (1, b+1):\n",
    "    c = ipotenuza (a, b)\n",
    "    if c == int(c):\n",
    "        rez = 1\n",
    "        print (\"({}, {}, {})\".format(a, b, int(c)), file=out)\n",
    "\n",
    "if rez == 0: \n",
    "    print(\"Not found\", file=out)\n",
    "out.close()\n",
    "print(\"done\")"
   ]
  },
  {
   "cell_type": "code",
   "execution_count": 1,
   "metadata": {},
   "outputs": [
    {
     "name": "stdout",
     "output_type": "stream",
     "text": "Not found\n1 2 3 4 \n"
    }
   ],
   "source": [
    "# 3.4\n",
    "from moduleLab3 import citire, valpoz, semn, afisare\n",
    "v   = citire() \n",
    "poz = valpoz(v)\n",
    "neg = semn(valpoz(semn(v)))\n",
    "afisare (neg)\n",
    "afisare (poz)"
   ]
  },
  {
   "cell_type": "code",
   "execution_count": 25,
   "metadata": {},
   "outputs": [
    {
     "name": "stdout",
     "output_type": "stream",
     "text": "True\nFalse\n"
    }
   ],
   "source": [
    "# 4\n",
    "def maxCif(x): return int(max(list(str(x if x > 0 else -x))))\n",
    "\n",
    "def alipire (*num):\n",
    "    if len(num) == 0: return 0\n",
    "    s = 0\n",
    "    for i in num:\n",
    "        s = s*10 + maxCif(i)\n",
    "    return s\n",
    "\n",
    "def verif (a, b, c): return maxCif(alipire(a, b, c)) <= 1\n",
    "\n",
    "print (verif (1001, 11, 100))\n",
    "print (verif (1001, 17, 100))"
   ]
  },
  {
   "cell_type": "code",
   "execution_count": 19,
   "metadata": {},
   "outputs": [
    {
     "output_type": "stream",
     "name": "stdout",
     "text": "['a', 'b', 'c', 'd', 'e', 'f', 'g', 'h', 'i', 'j', 'k', 'l', 'm', 'n', 'o', 'p', 'q', 'r', 's', 't', 'u', 'v', 'w', 'x', 'y', 'z']\n"
    }
   ],
   "source": [
    "print ([chr(ord('a') + i) for i in range(ord('z') - ord('a') + 1)])\n",
    ""
   ]
  }
 ],
 "metadata": {
  "kernelspec": {
   "name": "python3",
   "display_name": "Python 3"
  }
 },
 "nbformat": 4,
 "nbformat_minor": 2
}